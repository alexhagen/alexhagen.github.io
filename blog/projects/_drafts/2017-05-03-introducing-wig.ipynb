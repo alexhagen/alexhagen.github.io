{
 "cells": [
  {
   "cell_type": "code",
   "execution_count": 1,
   "metadata": {
    "collapsed": false,
    "deletable": true,
    "editable": true
   },
   "outputs": [
    {
     "data": {
      "application/javascript": [
       "\n",
       "MathJax.Hub.Register.StartupHook(\"TeX Jax Ready\",function () {\n",
       "  var MML = MathJax.ElementJax.mml,\n",
       "      TeX = MathJax.InputJax.TeX;\n",
       "\n",
       "  TeX.Definitions.macros.nicefrac = \"myBevelFraction\";\n",
       "  TeX.Definitions.macros.unit = \"myUnit\";\n",
       "  TeX.Definitions.macros.ce = \"myCe\";\n",
       "\n",
       "  TeX.Parse.Augment({\n",
       "    myBevelFraction: function (name) {\n",
       "      var num = this.ParseArg(name),\n",
       "          den = this.ParseArg(name);\n",
       "      this.Push(MML.mfrac(num,den).With({bevelled: true}));\n",
       "    },\n",
       "    myUnit: function(name) {\n",
       "      var num = this.ParseArg(name);\n",
       "      var den = 2;\n",
       "      this.Push(MML.mtext(num).With({variant: 'normal'}));\n",
       "    },\n",
       "    myCe: function(name) {\n",
       "      var num = this.ParseArg(name);\n",
       "      var den = 2;\n",
       "      this.Push(MML.mtext(num).With({variant: 'normal'}));\n",
       "    }\n",
       "  });\n",
       "  MathJax.Hub.Insert(MathJax.InputJax.TeX.Definitions.macros,{\n",
       "      cancel: [\"Extension\",\"cancel\"],\n",
       "      bcancel: [\"Extension\",\"cancel\"],\n",
       "      xcancel: [\"Extension\",\"cancel\"],\n",
       "      cancelto: [\"Extension\",\"cancel\"]\n",
       "    });\n",
       "});\n"
      ],
      "text/plain": [
       "<IPython.core.display.Javascript object>"
      ]
     },
     "metadata": {},
     "output_type": "display_data"
    }
   ],
   "source": [
    "import lyxithea.lyxithea as lyx\n",
    "from pyg import twod as pyg2d\n",
    "from pyg import table as pygt\n",
    "from pyg import threed as pyg3d\n",
    "\n",
    "bib = lyx.bib('bibs/blog.bib')"
   ]
  },
  {
   "cell_type": "code",
   "execution_count": 2,
   "metadata": {
    "collapsed": false,
    "deletable": true,
    "editable": true
   },
   "outputs": [
    {
     "name": "stderr",
     "output_type": "stream",
     "text": [
      "ERROR:root:Cell magic `%%yaml` not found.\n"
     ]
    }
   ],
   "source": [
    "%%yaml\n",
    "\n",
    "title: \"Introducing WIG\"\n",
    "layout: post-light-feature\n",
    "date:   2017-05-03 15:00:00\n",
    "keywords: make, gnu make, makefile\n",
    "long_title: true\n",
    "comments: true"
   ]
  },
  {
   "cell_type": "markdown",
   "metadata": {
    "deletable": true,
    "editable": true,
    "variables": {
     " bib.pcite('Shultis2006') ": "(<a href=\"#Shultis2006\">Shultis,  et. al. 2006</a>)"
    }
   },
   "source": [
    "# Introducing WIG\n",
    "\n",
    "**A ``python`` class for writing and analyzing MCNP**\n",
    "\n",
    "*I've almost certainly published this too early; WIG is in a very early alpha stage.  I don't think anybody could use it but me, and compiling it is probably a unique feat.  However, I'm proud of it and some of the results it's been able to produce thus far, so I wanted to show off.*\n",
    "\n",
    "This post is only going to be relevant for those nuclear scientists and engineers in the audience.  Of those that I know, which is quite a few a this point, nuclear engineers are split into two groups:  those that have used MCNP, and those that are about to need to use MCNP.  For those (two or three nukes) that are unfamiliar, MCNP stands for *Monte Carlo N-Particle transport*.  Basically, it uses random numbers to simulate the transport of neutrons through arbitrary geometry and materials.  If you're unfamiliar, Kansas State (I believe) has a great primer {{ bib.pcite('Shultis2006') }}.\n",
    "\n",
    "One thing you'll notice in the primer is how incredibly specific the syntax is.  MCNP was, as far as I can tell, written back in the days that you had to use punch cards to run simulations.  There is no obvious syntax, no parameter names, and no scripting ability.  Semantics, or code quality, is non-existant because it's basically just a mess of numbers in a file. Because of this, simulations are tedious to write and - if you're trying to simulate many similar situations with minor changes - error prone. That's where ``wig`` comes in.\n",
    "\n",
    "Honestly, I wrote ``wig`` to scratch my own itch.  I needed a way automate running of input decks, visualize the input geometry that I passed to MCNP, look at results, and generally just keep me from screwing up. I've always been bad at \"Oh, well I accidentally forgot to change this parameter in this file but I did in this file\" type errors, and programming is a great way to solve that problem.  So, I took all the simulation experience I have between COMSOL and ANSYS and GEANT and others, and said: \"screw all that, nothing I've used is good enough for this.  Instead, I'll make this Pythonically.\""
   ]
  },
  {
   "cell_type": "markdown",
   "metadata": {
    "deletable": true,
    "editable": true
   },
   "source": [
    "## A WIG Example\n",
    "\n",
    "Before touting the current capabilities in WIG, I thought I'd show a quick example of it in action.  Mostly to try and wow you with the pretty pictures.  With that, a choice of an example isn't the easiest thing.  In nuclear engineering, the most interesting things are reactors or bombs.  The former is difficult in MCNP because MCNP is bad at critical assemblies, the latter is illegal to publish. So I went for the next most interesting thing: disaster.\n",
    "\n",
    "For those unaware, there was a tunnel collapse \n",
    "\n"
   ]
  },
  {
   "cell_type": "code",
   "execution_count": 16,
   "metadata": {
    "collapsed": false,
    "deletable": true,
    "editable": true
   },
   "outputs": [
    {
     "data": {
      "text/html": [
       "<h2>Bibliography</h2>\n",
       "<ol>\n",
       "<li name=\"Shultis2006\">\n",
       "<!-- This document was automatically generated with bibtex2html 1.98\n",
       "     (see http://www.lri.fr/~filliatr/bibtex2html/),\n",
       "     with the following command:\n",
       "     /usr/bin/bibtex2html -nokeys -o - -s plain -nodoc -q /tmp/tmpZjl2Pw.bib  -->\n",
       "\n",
       "\n",
       "\n",
       "\n",
       "<p><a name=\"Shultis2006\"></a>\n",
       "\n",
       "JK&nbsp;Shultis and RE&nbsp;Faw.\n",
       " An mcnp primer.\n",
       " <em>Dept. of Mechanical and Nuclear</em>, 66506(c), 2006.\n",
       "\n",
       "</p>\n",
       "</li>\n",
       "</ol>\n"
      ],
      "text/plain": [
       "<IPython.core.display.HTML object>"
      ]
     },
     "metadata": {},
     "output_type": "display_data"
    }
   ],
   "source": [
    "bib.bibliography()"
   ]
  },
  {
   "cell_type": "code",
   "execution_count": null,
   "metadata": {
    "collapsed": true,
    "deletable": true,
    "editable": true
   },
   "outputs": [],
   "source": []
  }
 ],
 "metadata": {
  "hide_input": false,
  "kernelspec": {
   "display_name": "Python 2",
   "language": "python",
   "name": "python2"
  },
  "language_info": {
   "codemirror_mode": {
    "name": "ipython",
    "version": 2
   },
   "file_extension": ".py",
   "mimetype": "text/x-python",
   "name": "python",
   "nbconvert_exporter": "python",
   "pygments_lexer": "ipython2",
   "version": "2.7.13"
  },
  "latex_envs": {
   "LaTeX_envs_menu_present": true,
   "autocomplete": true,
   "bibliofile": "bibs/dissertation.bib",
   "cite_by": "apalike",
   "current_citInitial": 1,
   "eqLabelWithNumbers": true,
   "eqNumInitial": 1,
   "hotkeys": {
    "equation": "Ctrl-E",
    "itemize": "Ctrl-I"
   },
   "labels_anchors": false,
   "latex_user_defs": false,
   "report_style_numbering": false,
   "user_envs_cfg": false
  }
 },
 "nbformat": 4,
 "nbformat_minor": 2
}
